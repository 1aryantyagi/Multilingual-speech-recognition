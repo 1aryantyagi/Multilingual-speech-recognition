{
 "cells": [
  {
   "cell_type": "markdown",
   "metadata": {},
   "source": [
    "# Evaluation"
   ]
  },
  {
   "cell_type": "markdown",
   "metadata": {},
   "source": [
    "This is the evaluation of the same model that I am using for the speech recognition task.\n",
    "\n",
    "The data that I am using is from Kaggle.\n",
    "https://www.kaggle.com/datasets/hbchaitanyabharadwaj/audio-dataset-with-10-indian-languages/data"
   ]
  },
  {
   "cell_type": "markdown",
   "metadata": {},
   "source": [
    "I will be testing 80 audios from each 8 different Indian languages and storing there the genrated transcription.\n"
   ]
  },
  {
   "cell_type": "code",
   "execution_count": 2,
   "metadata": {},
   "outputs": [],
   "source": [
    "import pandas as pd"
   ]
  },
  {
   "cell_type": "code",
   "execution_count": 20,
   "metadata": {},
   "outputs": [
    {
     "data": {
      "text/plain": [
       "True"
      ]
     },
     "execution_count": 20,
     "metadata": {},
     "output_type": "execute_result"
    }
   ],
   "source": [
    "from openai import OpenAI\n",
    "import os\n",
    "from langchain_openai import ChatOpenAI\n",
    "from langchain.chains.llm import LLMChain\n",
    "from langchain_core.prompts import PromptTemplate\n",
    "from dotenv import load_dotenv\n",
    "load_dotenv()"
   ]
  },
  {
   "cell_type": "code",
   "execution_count": 21,
   "metadata": {},
   "outputs": [],
   "source": [
    "def transcribe_audio(file_path):\n",
    "    try:\n",
    "        with open(file_path, \"rb\") as file:\n",
    "            model = OpenAI()\n",
    "            transcription = model.audio.transcriptions.create(\n",
    "                model=\"whisper-1\", file=file)\n",
    "            transcription_text = transcription.text\n",
    "\n",
    "    except Exception as e:\n",
    "        transcription_text = f\"An error occurred: {e}\"\n",
    "\n",
    "    return transcription_text"
   ]
  },
  {
   "cell_type": "markdown",
   "metadata": {},
   "source": [
    "## Hindi"
   ]
  },
  {
   "cell_type": "code",
   "execution_count": 49,
   "metadata": {},
   "outputs": [],
   "source": [
    "audios_path = os.listdir('test_audio/hindi')"
   ]
  },
  {
   "cell_type": "code",
   "execution_count": 50,
   "metadata": {},
   "outputs": [],
   "source": [
    "texts = []\n",
    "for i in audios_path:\n",
    "    dirr = 'test_audio/hindi/' + i\n",
    "    traz_text = transcribe_audio(dirr)\n",
    "    texts.append(traz_text)"
   ]
  },
  {
   "cell_type": "code",
   "execution_count": 51,
   "metadata": {},
   "outputs": [
    {
     "data": {
      "text/plain": [
       "['व्यवसाहे प्राड़ट्स की तुलना के लिए प्राफिट मारजिन का अक्सर इस्तेमाल करते हैं।',\n",
       " 'टीम के अहम सदस्य समझते हैं वे अपना सर्वस्यरश्ट परदशन करने के लिए और',\n",
       " 'इसे वैसा ही किया जैसे ही मुझे थोड़ा आराम मिलना शुरू हुआ',\n",
       " 'Buffer Forward Slash राजी करने का प्रतिरोद',\n",
       " 'उसे बहुत यादा था अरे वो सांधार वक्त है',\n",
       " 'आपके पास दरसल कितना समय है?',\n",
       " 'गती और परगती में',\n",
       " 'उन पुराने दिनों में जब कभी ऐसा होता कि हमें किसी बड़े आपको पड़े प्रयमा आपको पड़े नहीं होता।',\n",
       " 'इस समक से सक्षम थे।',\n",
       " 'व्यवसाही के रिसीबेबल्स गिर्वी रखे जाते हैं। इसलिए रिंडादा का रिसीबेबल्स।']"
      ]
     },
     "execution_count": 51,
     "metadata": {},
     "output_type": "execute_result"
    }
   ],
   "source": [
    "texts"
   ]
  },
  {
   "cell_type": "markdown",
   "metadata": {},
   "source": [
    "## Urdu"
   ]
  },
  {
   "cell_type": "code",
   "execution_count": 25,
   "metadata": {},
   "outputs": [],
   "source": [
    "audios_path = os.listdir('test_audio/Urdu/')"
   ]
  },
  {
   "cell_type": "code",
   "execution_count": 26,
   "metadata": {},
   "outputs": [],
   "source": [
    "text_urdu = []\n",
    "for i in audios_path:\n",
    "    dirr = 'test_audio/Urdu/' + i\n",
    "    traz_text = transcribe_audio(dirr)\n",
    "    text_urdu.append(traz_text)"
   ]
  },
  {
   "cell_type": "code",
   "execution_count": 27,
   "metadata": {},
   "outputs": [
    {
     "data": {
      "text/plain": [
       "['कार ले जाने की कोई और वज़ा भी है? वो जवाब देती है हाँ',\n",
       " 'ییسو مسیح چار قبل مسیح سے تیس اسمی',\n",
       " 'اور پھر خوش خالی کی طرف متوجہ ہونا شروع کردیں جب آپ کے پاس',\n",
       " 'ساری کتاب پڑھ لیں اور جب دوبارہ اس کتاب کا مطالعہ کریں گے تو شاید آپ اس کو پوری طور پر پڑھ سکتے ہیں',\n",
       " 'بیس سال پہلے منویل ایل کیوزن نے اس راستے متاثر ہو کر فیصدہ کیا',\n",
       " 'پکنگم محل میں اپنے مطالعہ کے کمرے میں چھے عصور لکھوا کر لٹکا رکھے تھے',\n",
       " 'نیو یورک کے ایک مطمور اور باعزت شہری نے مجھے بتایا کہ ان کے ڈاکٹر نے مجھے دیکھا',\n",
       " 'लगता है मैं डूब के मरा था अब मर के डूबना नहीं चाहता',\n",
       " 'کے اصول کو بھی پیش نظر رکھنا چاہیے انہماک اور ارتقاظ کے محصر استعمال کے لیے',\n",
       " 'کوئی خاص کاغذ موجود نہ تھا مغربی دنیا میں پیپرس موجود تھا']"
      ]
     },
     "execution_count": 27,
     "metadata": {},
     "output_type": "execute_result"
    }
   ],
   "source": [
    "text_urdu"
   ]
  },
  {
   "cell_type": "markdown",
   "metadata": {},
   "source": [
    "## Telugu"
   ]
  },
  {
   "cell_type": "code",
   "execution_count": 28,
   "metadata": {},
   "outputs": [],
   "source": [
    "audios_path = os.listdir('test_audio/telugu/')"
   ]
  },
  {
   "cell_type": "code",
   "execution_count": 29,
   "metadata": {},
   "outputs": [],
   "source": [
    "text_telgulu = []\n",
    "for i in audios_path:\n",
    "    dirr = 'test_audio/telugu/' + i\n",
    "    traz_text = transcribe_audio(dirr)\n",
    "    text_telgulu.append(traz_text)"
   ]
  },
  {
   "cell_type": "code",
   "execution_count": 30,
   "metadata": {},
   "outputs": [
    {
     "data": {
      "text/plain": [
       "['ಮಣಿಷಿ ಮನಂಗಡಾ ತನಾ ದಇಹಂ ಅನಂಮತಿಂಚಿನ ಅನ\\u0c8dತ ಮಿರಾಕಿಯನಾನನಾ ಪರಿಸಿದರಾಗಿ ಮನಂಗಡಡಾ ತನಾ ದಇಹಂ ಅನ�',\n",
       " 'இவங்க நா மித்துள்ள இ\\u0ba6்\\u0ba7ரு அ\\u0badை விச்சாரு இங்க வச்சிந பணி ஆயிஂ\\u0ba6ு கனுகா',\n",
       " 'ఉండ్లో ఆడే కొండబంతి న్యాప్కం ఉత్తింది ఇటోక్షి ఇది అన్తకంటే అన్నగానింది',\n",
       " 'మా స్టీమరు కూడా నేను భయిపడ్డడ్టు కెర్టాలు మేదా ఆకాసమందలు నంత్సరింది.',\n",
       " 'મીટો જનાલંદરક્કી રોકમ્ ચુટ્ટ્કોવામેમેમેટો વેદાંત દોરેણ્લા નાડિકીરેટી',\n",
       " 'పేద్ద ముక్కు పేర్ధిక ఎగుకో మాడలకా పనీకిరాదని',\n",
       " 'સાલ્માવ્ મયૂર મમલકું વીરરવ્ધં કળિગેંં પોડુ વાયે સમં ..',\n",
       " 'సరే ఏం నియాస్తామ్ చూద్ధామ్ అనుకోనే పెట్టేలో దాజ్కున్నార్',\n",
       " 'ఇంక వద్దనా ఆరంపించ పోత్తినారు ఇ కత్లు ఉప్యాగించరం మనకు చాతా ఉత్తందం',\n",
       " 'లార్భాల్లో ఉక్కొట్టి గాని ఉంటుంది అందు లో ముక్షింగా వణడవాలగండి']"
      ]
     },
     "execution_count": 30,
     "metadata": {},
     "output_type": "execute_result"
    }
   ],
   "source": [
    "text_telgulu"
   ]
  },
  {
   "cell_type": "markdown",
   "metadata": {},
   "source": [
    "## Punjabi"
   ]
  },
  {
   "cell_type": "code",
   "execution_count": 31,
   "metadata": {},
   "outputs": [],
   "source": [
    "audios_path = os.listdir('test_audio/Punjabi')"
   ]
  },
  {
   "cell_type": "code",
   "execution_count": 32,
   "metadata": {},
   "outputs": [],
   "source": [
    "text_punjabi = []\n",
    "for i in audios_path:\n",
    "    dirr = 'test_audio/Punjabi/' + i\n",
    "    traz_text = transcribe_audio(dirr)\n",
    "    text_punjabi.append(traz_text)"
   ]
  },
  {
   "cell_type": "code",
   "execution_count": 33,
   "metadata": {},
   "outputs": [
    {
     "data": {
      "text/plain": [
       "['સૂર્વેજ્યા ચુડે આછો અરે બાહર નીકાલ મોટા સૂર્વેજ્યા સૂર્વેજ્યા',\n",
       " 'ನಿಮ್ ಅಡೆ ನಾವೆ..! ಪನುಪಾಯಿ ಒಕದ್ದಿದ್ದಿದ್ದಿದ್ದಿದ್ದಿ..!',\n",
       " 'सिंधना समर्थ कवे फिल्सुप्स अब्दल अतेप्स ने तो स्थूल घटणा मा तो अध्यात्मिक...',\n",
       " 'ने पुछू, तम्हीं बाप, तम्हीं एकला कहाँ है बा? माने केम नला है बा?',\n",
       " 'आहा एज् इला बोला वो बोला वो',\n",
       " 'લાડતે દિખાઈ, ભારવટે કાહે નબુળી નશીકિયા, ક્યાંતા કડડડડડડડડડડડડડડડડડડડડડડડડડડડડડડડ',\n",
       " 'માકડા ગામ તિમ્બા ની લાજકારન્પાન્ જે દેખ ખપાવે એને ની જીવે ચે ની',\n",
       " 'गांगानी काठेना चोकरा कहे के ए रम भाई',\n",
       " 'મેંચે ગોરાની પડ્કે બેઠાજે ગુોરોના ઉગાડા અંગોપર શમ્શેર્ જેક્વા મારો હાત તલાગે મેંચે',\n",
       " 'રસ્તમા ગામે ગામ્તે નવા નવા જુવાનવો જોડાયુંજે ગડ્જોડેંગે કેટ્ટે કોટ્ટ્ટ્ટ્ટ્ટ્ટ્ટ']"
      ]
     },
     "execution_count": 33,
     "metadata": {},
     "output_type": "execute_result"
    }
   ],
   "source": [
    "text_punjabi"
   ]
  },
  {
   "cell_type": "markdown",
   "metadata": {},
   "source": [
    "## Marathi"
   ]
  },
  {
   "cell_type": "code",
   "execution_count": 34,
   "metadata": {},
   "outputs": [],
   "source": [
    "audios_path = os.listdir('test_audio/marathi')"
   ]
  },
  {
   "cell_type": "code",
   "execution_count": 35,
   "metadata": {},
   "outputs": [],
   "source": [
    "text_marathi = []\n",
    "for i in audios_path:\n",
    "    dirr = 'test_audio/marathi/' + i\n",
    "    traz_text = transcribe_audio(dirr)\n",
    "    text_marathi.append(traz_text)"
   ]
  },
  {
   "cell_type": "code",
   "execution_count": 36,
   "metadata": {},
   "outputs": [
    {
     "data": {
      "text/plain": [
       "['इवडिज आज आमी तुम्हाला सुचना देवं ठेवता हो। सासु बाहिन नी आज्ना करवी।',\n",
       " 'असनर हहा बोड मानूस इतरान पिक्षा विगलाच होता',\n",
       " 'ने अपलेला एवड़ा तातडीना का बोलावल याचा त्यांनाही अस्ट्यार्या वाटला होता।',\n",
       " 'नानासाहेब नमस्कराला आल्या वर मत्र त्यांना अपल्या भावना लपवता आल्या नहीं।',\n",
       " 'एकदम खडबडून जागा जाला सावत पने त्याना आपला मनोगत बोलून दाखो',\n",
       " 'कन्दच उप्टुं काडला, भारगावरामाची भुमी यवणा पसुन मुक्त केली.',\n",
       " 'जमादार आशी बोला तू भी? जमादार नहीं, जामदार, चंदा जामदार',\n",
       " 'त्या अस्वा आवरली नहीं और रद्न्याचा थाम्बोला नहीं तर आमी तुम्चासी कसे बोलना है?',\n",
       " 'तेवहां अर्जुनाने अपल्या कुटुम्बियान न पहिले।',\n",
       " 'इसे स्थान पर नहीं रहना चाहिए अर्थाद']"
      ]
     },
     "execution_count": 36,
     "metadata": {},
     "output_type": "execute_result"
    }
   ],
   "source": [
    "text_marathi"
   ]
  },
  {
   "cell_type": "markdown",
   "metadata": {},
   "source": [
    "## Kannada"
   ]
  },
  {
   "cell_type": "code",
   "execution_count": 37,
   "metadata": {},
   "outputs": [],
   "source": [
    "audios_path = os.listdir('test_audio/kannada')"
   ]
  },
  {
   "cell_type": "code",
   "execution_count": 38,
   "metadata": {},
   "outputs": [],
   "source": [
    "text_kannada = []\n",
    "for i in audios_path:\n",
    "    dirr = 'test_audio/kannada/' + i\n",
    "    traz_text = transcribe_audio(dirr)\n",
    "    text_kannada.append(traz_text)"
   ]
  },
  {
   "cell_type": "code",
   "execution_count": 39,
   "metadata": {},
   "outputs": [
    {
     "data": {
      "text/plain": [
       "['ಇವಾಗ ಒಂದು ಸ್ವಾದ್ಧರೆ ಯೇಣಿಗೆ.',\n",
       " 'अनन् चययव पराण. अनन् मंदने चतरमुखा, अनन् आपि माणि देवतेवनु.',\n",
       " 'ಮಂತ್ರಗಳನ್ನ ಕೆಲೋಕಡೆ ಗನಾಂತ್ವಾಗಿ ಹೇಳೋದು.',\n",
       " 'ನಿನ್ಯಾಗು ಪಾರ್ಥ್ಹಾ..! ನಿನೀಕ್ಕಿಂದ ಬದಲ್ ಹೊಟಿದವೋರು ನಾವು..! ನಾವು ಪಾರ್ಥ್ಹರು..! ನಿನ ಬರೆ ಅಪಾರ್ಥ್ಹಾ..!',\n",
       " 'ಆತ ಸೀತೆ ನನುಕ್ಕೊಡ್ಡೆಯದೇ ಕಾಯಗೆ ಅಧಿನಾಲ್ಕು ವರಸ್ಯಗೊಂಟಿ ಸೀತೆ ನನುಕ್ಕೊಡ್ಡೆಯದೇ ಕಾಯಗೆ.',\n",
       " 'ಶನಿ ಶನಿ ಅಂತೆ, ಶನಿ ದಶೇ ಅಂತೆ, 7 ವರೆ ವರ್ಷ ಶನಿ ಅಂತೆ ಅಂತಾ.',\n",
       " 'ಅವಗಳ ನಿಲ್ಲ ಒಂದೆ ಕ್ಷಣದಲ್ಲಿ ಬದ್ಲಾಯಿಸ್ಕೊಂದು, ನಿವು ಮಣೆಗ್ ಕರ್ಕೊಂಡ್ ಹೋತ್ತ ಕ್ಷಣದಲ್ಲಿ..',\n",
       " 'ಅನೇಕ ಯೋಕರು ಯೋತಿಯರು ನಾನ್ನಾತ್ರಾ ದೂರ್ಹೇಳ್ಕೊತ್ತಾಯಿರ್ತು.',\n",
       " 'ಇಲ್ಲಿ ಸಕ್ಟಮುಕ್ಕಾ ಮಗಾ ಕೊಟ್ಟು ವಿಟ್ಟುತ್ರೇ ಅವರು ಉಟ್ಟುವೇಯಲ್ಲಾ ಮೇಲೆ.',\n",
       " 'कैसे तो मिच्या लेकर लो, नम धर्मानुर्छान, नम मंतरो क्या मिच्या लेकर लो?']"
      ]
     },
     "execution_count": 39,
     "metadata": {},
     "output_type": "execute_result"
    }
   ],
   "source": [
    "text_kannada"
   ]
  },
  {
   "cell_type": "markdown",
   "metadata": {},
   "source": [
    "## Gujarati"
   ]
  },
  {
   "cell_type": "code",
   "execution_count": 40,
   "metadata": {},
   "outputs": [],
   "source": [
    "audios_path = os.listdir('test_audio/gujarati')"
   ]
  },
  {
   "cell_type": "code",
   "execution_count": 41,
   "metadata": {},
   "outputs": [],
   "source": [
    "text_gujarati = []\n",
    "for i in audios_path:\n",
    "    dirr = 'test_audio/gujarati/' + i\n",
    "    traz_text = transcribe_audio(dirr)\n",
    "    text_gujarati.append(traz_text)"
   ]
  },
  {
   "cell_type": "code",
   "execution_count": 42,
   "metadata": {},
   "outputs": [
    {
     "data": {
      "text/plain": [
       "['वने खतरी बनदलकावे अमफरी सहहबे पेला जुवान नगर वीर',\n",
       " 'કાયણે કોત્રોમા, ચાડેઓમા, વેરાન્મા રગ્દોર્દા ભાટ્કોં ચ્ટ્ટ્ટ્ટ્ટ્ટ્ટ્ટ્ટ્ટ્ટ્ટ્ટ�',\n",
       " 'बे हाथ जोड़ेने ओर्डे के अवरेमाई, अवे तो हद थई।',\n",
       " 'कबरयने बावा एक बुम पडय, आपा मनने राद रहक्यो',\n",
       " 'वलतो जाजेरे वेवायूने मांडवडे हो राज।',\n",
       " 'इल्ला चाऊस हाथे करी मरवा माटे डब्रोली जोके',\n",
       " 'अत्र अर्धामा अर्धोरियू मगर मसोडता हात विजानन्द।',\n",
       " 'आमज मारे ना चलयो जईस्.',\n",
       " 'ಸೋಂಗೋ ಕಂಡಾರೆ ಮಲಪ್ತಾ ಪಗ್ಳಾ ಬರ್ತಿಯಾವೇ ಪಾವಾನ್ನು ಸೋಂಗೋ ಕಂಡಾರೆ ಮಲಪ್ತಾ ಪಗ್ಳಾ ಬರ್ತಿಯಾವೇ',\n",
       " 'સીત્ નાત્ આજ જોડેને કર્ગરેચે કી ગુરુદેવ ગુુરુદેવ તપેશ્યનાપ્ પેશ્યનાપ્']"
      ]
     },
     "execution_count": 42,
     "metadata": {},
     "output_type": "execute_result"
    }
   ],
   "source": [
    "text_gujarati"
   ]
  },
  {
   "cell_type": "markdown",
   "metadata": {},
   "source": [
    "## Bengali"
   ]
  },
  {
   "cell_type": "code",
   "execution_count": 43,
   "metadata": {},
   "outputs": [],
   "source": [
    "audios_path = os.listdir('test_audio/bengali')"
   ]
  },
  {
   "cell_type": "code",
   "execution_count": 44,
   "metadata": {},
   "outputs": [],
   "source": [
    "text_bengali = []\n",
    "for i in audios_path:\n",
    "    dirr = 'test_audio/bengali/' + i\n",
    "    traz_text = transcribe_audio(dirr)\n",
    "    text_bengali.append(traz_text)"
   ]
  },
  {
   "cell_type": "code",
   "execution_count": 45,
   "metadata": {},
   "outputs": [
    {
     "data": {
      "text/plain": [
       "['মা ভুরের পরোছোনাই পরে ছেলেটার পরোকাল খেয়ে রেখাছো তুমি.',\n",
       " 'विधा हूतो ना आपनार मंधे भाब साप छिलो? अभाबो किछो छिलो ना',\n",
       " 'ধুক্লাম শাকরা দোকানে এই জিনিষ্টা একবার দেখেন পক্টা',\n",
       " 'অত্তি উট্লু স্মাশ ধরে টিমপ্রিচার সুপুটাম্ কাবদে শেগে ছ্য়িছ্যলো',\n",
       " 'যে এসটেশেগাফ হাতপা থানটা হেগালো নিমিশনে, হাতপ্পা থান্ডা হেগালো নিমিশে খাখुরা পয়ণ পযণহবাব পদ্য হরেসের করসখরারটার',\n",
       " 'সা চাই নি বঙ্কেশের সামনে চেআরে বোশ্লো এবার বলো টারচ্টা ভাঙ্লিখানে',\n",
       " 'પીછાનાય્ પૂરરિ થાકે... મા છેલેર આપ્રીયો કથા કટા કટિ જઇ તાર કાણિ એશે છેયુ...',\n",
       " 'अता तेमान पुरणो नई, बाछर 5-7 आगे होयेचे।',\n",
       " 'બોલ્લો, પુરુષેરા બેશીર ભાગીતો તાઈ, આમે ઉસબ નીયે માઠા ખમઈના।',\n",
       " 'તાઓ ઠીક તબે આડાઈ હાચાર ટાકાર બિયાપાડિટાઓ ઉર્કાછે મૂટે સાક્ટે સાક્ટે']"
      ]
     },
     "execution_count": 45,
     "metadata": {},
     "output_type": "execute_result"
    }
   ],
   "source": [
    "text_bengali"
   ]
  },
  {
   "cell_type": "markdown",
   "metadata": {},
   "source": [
    "# Using OpenAI to identify the language"
   ]
  },
  {
   "cell_type": "code",
   "execution_count": 46,
   "metadata": {},
   "outputs": [],
   "source": [
    "def summarize_text(text1):\n",
    "    prompt_template = \"\"\"Identify the language in the given text. \n",
    "    Just return me the name nothing else.\n",
    "    The answer should be of just one string that is the name of that language.\n",
    "\n",
    "    \"{text1}\"\n",
    "    \"\"\"\n",
    "\n",
    "    prompt = PromptTemplate.from_template(prompt_template)\n",
    "\n",
    "    llm = ChatOpenAI(\n",
    "        temperature=0,\n",
    "        model_name=\"gpt-3.5-turbo-16k\",\n",
    "     )\n",
    "    llm_chain = LLMChain(llm=llm, prompt=prompt)\n",
    "\n",
    "    summary = llm_chain.invoke(text1)\n",
    "\n",
    "    return summary.get('text')"
   ]
  },
  {
   "cell_type": "code",
   "execution_count": 61,
   "metadata": {},
   "outputs": [
    {
     "name": "stdout",
     "output_type": "stream",
     "text": [
      "10\n"
     ]
    }
   ],
   "source": [
    "count = 0\n",
    "for i in texts:\n",
    "    a = summarize_text(i)\n",
    "    if summarize_text(i) == \"Hindi\":\n",
    "        count +=1\n",
    "print(count)"
   ]
  },
  {
   "cell_type": "code",
   "execution_count": 62,
   "metadata": {},
   "outputs": [
    {
     "name": "stdout",
     "output_type": "stream",
     "text": [
      "8\n"
     ]
    }
   ],
   "source": [
    "count = 0\n",
    "for i in text_urdu:\n",
    "    a = summarize_text(i)\n",
    "    if summarize_text(i) == \"Urdu\":\n",
    "        count +=1\n",
    "print(count)"
   ]
  },
  {
   "cell_type": "code",
   "execution_count": 63,
   "metadata": {},
   "outputs": [
    {
     "name": "stdout",
     "output_type": "stream",
     "text": [
      "5\n"
     ]
    }
   ],
   "source": [
    "count = 0\n",
    "for i in text_bengali:\n",
    "    a = summarize_text(i)\n",
    "    if summarize_text(i) == \"Bengali\":\n",
    "        count +=1\n",
    "print(count)"
   ]
  },
  {
   "cell_type": "code",
   "execution_count": 64,
   "metadata": {},
   "outputs": [
    {
     "name": "stdout",
     "output_type": "stream",
     "text": [
      "8\n"
     ]
    }
   ],
   "source": [
    "count = 0\n",
    "for i in text_marathi:\n",
    "    a = summarize_text(i)\n",
    "    if summarize_text(i) == \"Marathi\":\n",
    "        count +=1\n",
    "print(count)"
   ]
  },
  {
   "cell_type": "code",
   "execution_count": 65,
   "metadata": {},
   "outputs": [
    {
     "name": "stdout",
     "output_type": "stream",
     "text": [
      "2\n"
     ]
    }
   ],
   "source": [
    "count = 0\n",
    "for i in text_gujarati:\n",
    "    a = summarize_text(i)\n",
    "    if summarize_text(i) == \"Gujarati\":\n",
    "        count +=1\n",
    "print(count)"
   ]
  },
  {
   "cell_type": "code",
   "execution_count": 67,
   "metadata": {},
   "outputs": [
    {
     "name": "stdout",
     "output_type": "stream",
     "text": [
      "8\n"
     ]
    }
   ],
   "source": [
    "count = 0\n",
    "for i in text_kannada:\n",
    "    a = summarize_text(i)\n",
    "    if summarize_text(i) == \"Kannada\":\n",
    "        count +=1\n",
    "print(count)"
   ]
  },
  {
   "cell_type": "code",
   "execution_count": 74,
   "metadata": {},
   "outputs": [
    {
     "name": "stdout",
     "output_type": "stream",
     "text": [
      "0\n"
     ]
    }
   ],
   "source": [
    "count = 0\n",
    "for i in text_punjabi:\n",
    "    a = summarize_text(i)\n",
    "    if summarize_text(i) == \"Punjabi\":\n",
    "        count +=1\n",
    "print(count)"
   ]
  },
  {
   "cell_type": "code",
   "execution_count": 73,
   "metadata": {},
   "outputs": [
    {
     "name": "stdout",
     "output_type": "stream",
     "text": [
      "6\n"
     ]
    }
   ],
   "source": [
    "count = 0\n",
    "for i in text_telgulu:\n",
    "    a = summarize_text(i)\n",
    "    if summarize_text(i) == \"Telugu\":\n",
    "        count +=1\n",
    "print(count)"
   ]
  },
  {
   "cell_type": "code",
   "execution_count": 3,
   "metadata": {},
   "outputs": [
    {
     "name": "stdout",
     "output_type": "stream",
     "text": [
      "   Language  Number of Audios Tested  Correctly Identified  Accuracy (%)\n",
      "0     Hindi                       10                    10           100\n",
      "1      Urdu                       10                     8            80\n",
      "2    Telugu                       10                     6            60\n",
      "3   Punjabi                       10                     0             0\n",
      "4   Marathi                       10                     8            80\n",
      "5   Kannada                       10                     8            80\n",
      "6  Gujarati                       10                     2            20\n",
      "7   Bengali                       10                     5            50\n"
     ]
    }
   ],
   "source": [
    "data = {\n",
    "    \"Language\": [\"Hindi\", \"Urdu\", \"Telugu\", \"Punjabi\", \"Marathi\", \"Kannada\", \"Gujarati\", \"Bengali\"],\n",
    "    \"Number of Audios Tested\": [10, 10, 10, 10, 10, 10, 10, 10],\n",
    "    \"Correctly Identified\": [10, 8, 6, 0, 8, 8, 2, 5],\n",
    "    \"Accuracy (%)\": [100, 80, 60, 0, 80, 80, 20, 50]\n",
    "}\n",
    "df = pd.DataFrame(data)\n",
    "print(df)\n"
   ]
  },
  {
   "cell_type": "markdown",
   "metadata": {},
   "source": [
    "By this data:-\n",
    "\n",
    "Hindi-10\n",
    "\n",
    "Urdu -8\n",
    "\n",
    "Marathi - 8\n",
    "\n",
    "Kanada - 8\n",
    "\n",
    "Telugu - 6\n",
    "\n",
    "Bengali - 5\n",
    "\n",
    "Gujarati - 2\n",
    "\n",
    "Punjabi - 0"
   ]
  },
  {
   "cell_type": "markdown",
   "metadata": {},
   "source": [
    "This can be clearly predicted as the top 4 are the most spoken languages in India, so the data is more for training.\n",
    "\n",
    "This model can be improved by fine-tuning the model by giving more data of less spoken languages."
   ]
  }
 ],
 "metadata": {
  "kernelspec": {
   "display_name": "base",
   "language": "python",
   "name": "python3"
  },
  "language_info": {
   "codemirror_mode": {
    "name": "ipython",
    "version": 3
   },
   "file_extension": ".py",
   "mimetype": "text/x-python",
   "name": "python",
   "nbconvert_exporter": "python",
   "pygments_lexer": "ipython3",
   "version": "3.10.9"
  }
 },
 "nbformat": 4,
 "nbformat_minor": 2
}
